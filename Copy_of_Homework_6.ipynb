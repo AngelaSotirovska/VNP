{
  "nbformat": 4,
  "nbformat_minor": 0,
  "metadata": {
    "colab": {
      "name": "Copy of Homework-6.ipynb",
      "provenance": [],
      "collapsed_sections": [],
      "include_colab_link": true
    },
    "kernelspec": {
      "name": "python3",
      "display_name": "Python 3"
    }
  },
  "cells": [
    {
      "cell_type": "markdown",
      "metadata": {
        "id": "view-in-github",
        "colab_type": "text"
      },
      "source": [
        "<a href=\"https://colab.research.google.com/github/AngelaSotirovska/VNP/blob/main/Copy_of_Homework_6.ipynb\" target=\"_parent\"><img src=\"https://colab.research.google.com/assets/colab-badge.svg\" alt=\"Open In Colab\"/></a>"
      ]
    },
    {
      "cell_type": "markdown",
      "metadata": {
        "id": "yfnMxzgRAzFX"
      },
      "source": [
        "\r\n",
        "<font size = 4 color='Orange'>\r\n",
        "Learning Goals</font>\r\n",
        "\r\n",
        "<font color = 'Orange' size = 3 >In this Exercise your goal is to try different clustering algorithams on simple Iris Species dataset.\r\n",
        "\r\n",
        "You need to report for each algorithm the clustering evaluation metrics into a table.</font>\r\n",
        "\r\n",
        "\r\n",
        "<font color = 'Orange' size = 4 > Dataset </font>\r\n",
        "\r\n",
        "<font color = 'Orange' size = 3>\r\n",
        "The Dataset for Iris Species is public available on kaggle: https://www.kaggle.com/uciml/iris and also you have the code below for the dataset as part of  sklearn.datasets.\r\n",
        "</font>\r\n",
        "<ul>\r\n",
        "<font color = 'Orange' size = 3>\r\n",
        "Clustering algorithms\r\n",
        "\r\n",
        "<li>K-Means Clustering</li>\r\n",
        "<li>Agglomerative Clustering</li> \r\n",
        "<li>Affinity propagation Clustering</li> \r\n",
        "<li>Spectral Clustering</li> \r\n",
        "<li>DBSCAN Clustering</li>\r\n",
        "</ul>\r\n",
        "</font>\r\n",
        "\r\n",
        "<ul>\r\n",
        "<font color = 'Orange' size = 3>\r\n",
        "Clustering evaluation metrics\r\n",
        "\r\n",
        "<li>ARI - Adjusted Rand index</li>\r\n",
        "<li>AMI - Adjusted mutual information</li> \r\n",
        "<li>Homogenity</li> \r\n",
        "<li>Completeness</li> \r\n",
        "<li>V-measure</li>\r\n",
        "</ul>\r\n",
        "</font>\r\n",
        "\r\n",
        "<font color = 'Orange' size = 3>\r\n",
        "Choose the best clustering algorithm from the table and make visualization of the genereted clusters. \r\n",
        "For the visualization first you need to make dimensionality reduction (PCA) on X data into 2D data and then use your best clustering algorithm for cluster prediction.\r\n",
        "</font>\r\n",
        "\r\n"
      ]
    },
    {
      "cell_type": "code",
      "metadata": {
        "colab": {
          "base_uri": "https://localhost:8080/"
        },
        "id": "efXS6XFhhRlj",
        "outputId": "23b1892b-ac01-404d-9a11-72072cdfb31d"
      },
      "source": [
        "from google.colab import drive\n",
        "drive.mount('/content/drive')"
      ],
      "execution_count": null,
      "outputs": [
        {
          "output_type": "stream",
          "text": [
            "Mounted at /content/drive\n"
          ],
          "name": "stdout"
        }
      ]
    },
    {
      "cell_type": "code",
      "metadata": {
        "id": "_CyckE4I-QQk"
      },
      "source": [
        "from sklearn import datasets\r\n",
        "\r\n",
        "data = datasets.load_iris()\r\n",
        "X, y = data.data, data.target"
      ],
      "execution_count": null,
      "outputs": []
    },
    {
      "cell_type": "code",
      "metadata": {
        "colab": {
          "base_uri": "https://localhost:8080/"
        },
        "id": "qpvmg6FShaX3",
        "outputId": "85b0f51a-9ff4-4edb-d38b-dad1fe5efb92"
      },
      "source": [
        "y"
      ],
      "execution_count": null,
      "outputs": [
        {
          "output_type": "execute_result",
          "data": {
            "text/plain": [
              "array([0, 0, 0, 0, 0, 0, 0, 0, 0, 0, 0, 0, 0, 0, 0, 0, 0, 0, 0, 0, 0, 0,\n",
              "       0, 0, 0, 0, 0, 0, 0, 0, 0, 0, 0, 0, 0, 0, 0, 0, 0, 0, 0, 0, 0, 0,\n",
              "       0, 0, 0, 0, 0, 0, 1, 1, 1, 1, 1, 1, 1, 1, 1, 1, 1, 1, 1, 1, 1, 1,\n",
              "       1, 1, 1, 1, 1, 1, 1, 1, 1, 1, 1, 1, 1, 1, 1, 1, 1, 1, 1, 1, 1, 1,\n",
              "       1, 1, 1, 1, 1, 1, 1, 1, 1, 1, 1, 1, 2, 2, 2, 2, 2, 2, 2, 2, 2, 2,\n",
              "       2, 2, 2, 2, 2, 2, 2, 2, 2, 2, 2, 2, 2, 2, 2, 2, 2, 2, 2, 2, 2, 2,\n",
              "       2, 2, 2, 2, 2, 2, 2, 2, 2, 2, 2, 2, 2, 2, 2, 2, 2, 2])"
            ]
          },
          "metadata": {
            "tags": []
          },
          "execution_count": 3
        }
      ]
    },
    {
      "cell_type": "code",
      "metadata": {
        "colab": {
          "base_uri": "https://localhost:8080/"
        },
        "id": "-bnQBg4vhgus",
        "outputId": "6f043726-9a61-4f05-8e4c-dc10a4c7f9ce"
      },
      "source": [
        "X"
      ],
      "execution_count": null,
      "outputs": [
        {
          "output_type": "execute_result",
          "data": {
            "text/plain": [
              "array([[5.1, 3.5, 1.4, 0.2],\n",
              "       [4.9, 3. , 1.4, 0.2],\n",
              "       [4.7, 3.2, 1.3, 0.2],\n",
              "       [4.6, 3.1, 1.5, 0.2],\n",
              "       [5. , 3.6, 1.4, 0.2],\n",
              "       [5.4, 3.9, 1.7, 0.4],\n",
              "       [4.6, 3.4, 1.4, 0.3],\n",
              "       [5. , 3.4, 1.5, 0.2],\n",
              "       [4.4, 2.9, 1.4, 0.2],\n",
              "       [4.9, 3.1, 1.5, 0.1],\n",
              "       [5.4, 3.7, 1.5, 0.2],\n",
              "       [4.8, 3.4, 1.6, 0.2],\n",
              "       [4.8, 3. , 1.4, 0.1],\n",
              "       [4.3, 3. , 1.1, 0.1],\n",
              "       [5.8, 4. , 1.2, 0.2],\n",
              "       [5.7, 4.4, 1.5, 0.4],\n",
              "       [5.4, 3.9, 1.3, 0.4],\n",
              "       [5.1, 3.5, 1.4, 0.3],\n",
              "       [5.7, 3.8, 1.7, 0.3],\n",
              "       [5.1, 3.8, 1.5, 0.3],\n",
              "       [5.4, 3.4, 1.7, 0.2],\n",
              "       [5.1, 3.7, 1.5, 0.4],\n",
              "       [4.6, 3.6, 1. , 0.2],\n",
              "       [5.1, 3.3, 1.7, 0.5],\n",
              "       [4.8, 3.4, 1.9, 0.2],\n",
              "       [5. , 3. , 1.6, 0.2],\n",
              "       [5. , 3.4, 1.6, 0.4],\n",
              "       [5.2, 3.5, 1.5, 0.2],\n",
              "       [5.2, 3.4, 1.4, 0.2],\n",
              "       [4.7, 3.2, 1.6, 0.2],\n",
              "       [4.8, 3.1, 1.6, 0.2],\n",
              "       [5.4, 3.4, 1.5, 0.4],\n",
              "       [5.2, 4.1, 1.5, 0.1],\n",
              "       [5.5, 4.2, 1.4, 0.2],\n",
              "       [4.9, 3.1, 1.5, 0.2],\n",
              "       [5. , 3.2, 1.2, 0.2],\n",
              "       [5.5, 3.5, 1.3, 0.2],\n",
              "       [4.9, 3.6, 1.4, 0.1],\n",
              "       [4.4, 3. , 1.3, 0.2],\n",
              "       [5.1, 3.4, 1.5, 0.2],\n",
              "       [5. , 3.5, 1.3, 0.3],\n",
              "       [4.5, 2.3, 1.3, 0.3],\n",
              "       [4.4, 3.2, 1.3, 0.2],\n",
              "       [5. , 3.5, 1.6, 0.6],\n",
              "       [5.1, 3.8, 1.9, 0.4],\n",
              "       [4.8, 3. , 1.4, 0.3],\n",
              "       [5.1, 3.8, 1.6, 0.2],\n",
              "       [4.6, 3.2, 1.4, 0.2],\n",
              "       [5.3, 3.7, 1.5, 0.2],\n",
              "       [5. , 3.3, 1.4, 0.2],\n",
              "       [7. , 3.2, 4.7, 1.4],\n",
              "       [6.4, 3.2, 4.5, 1.5],\n",
              "       [6.9, 3.1, 4.9, 1.5],\n",
              "       [5.5, 2.3, 4. , 1.3],\n",
              "       [6.5, 2.8, 4.6, 1.5],\n",
              "       [5.7, 2.8, 4.5, 1.3],\n",
              "       [6.3, 3.3, 4.7, 1.6],\n",
              "       [4.9, 2.4, 3.3, 1. ],\n",
              "       [6.6, 2.9, 4.6, 1.3],\n",
              "       [5.2, 2.7, 3.9, 1.4],\n",
              "       [5. , 2. , 3.5, 1. ],\n",
              "       [5.9, 3. , 4.2, 1.5],\n",
              "       [6. , 2.2, 4. , 1. ],\n",
              "       [6.1, 2.9, 4.7, 1.4],\n",
              "       [5.6, 2.9, 3.6, 1.3],\n",
              "       [6.7, 3.1, 4.4, 1.4],\n",
              "       [5.6, 3. , 4.5, 1.5],\n",
              "       [5.8, 2.7, 4.1, 1. ],\n",
              "       [6.2, 2.2, 4.5, 1.5],\n",
              "       [5.6, 2.5, 3.9, 1.1],\n",
              "       [5.9, 3.2, 4.8, 1.8],\n",
              "       [6.1, 2.8, 4. , 1.3],\n",
              "       [6.3, 2.5, 4.9, 1.5],\n",
              "       [6.1, 2.8, 4.7, 1.2],\n",
              "       [6.4, 2.9, 4.3, 1.3],\n",
              "       [6.6, 3. , 4.4, 1.4],\n",
              "       [6.8, 2.8, 4.8, 1.4],\n",
              "       [6.7, 3. , 5. , 1.7],\n",
              "       [6. , 2.9, 4.5, 1.5],\n",
              "       [5.7, 2.6, 3.5, 1. ],\n",
              "       [5.5, 2.4, 3.8, 1.1],\n",
              "       [5.5, 2.4, 3.7, 1. ],\n",
              "       [5.8, 2.7, 3.9, 1.2],\n",
              "       [6. , 2.7, 5.1, 1.6],\n",
              "       [5.4, 3. , 4.5, 1.5],\n",
              "       [6. , 3.4, 4.5, 1.6],\n",
              "       [6.7, 3.1, 4.7, 1.5],\n",
              "       [6.3, 2.3, 4.4, 1.3],\n",
              "       [5.6, 3. , 4.1, 1.3],\n",
              "       [5.5, 2.5, 4. , 1.3],\n",
              "       [5.5, 2.6, 4.4, 1.2],\n",
              "       [6.1, 3. , 4.6, 1.4],\n",
              "       [5.8, 2.6, 4. , 1.2],\n",
              "       [5. , 2.3, 3.3, 1. ],\n",
              "       [5.6, 2.7, 4.2, 1.3],\n",
              "       [5.7, 3. , 4.2, 1.2],\n",
              "       [5.7, 2.9, 4.2, 1.3],\n",
              "       [6.2, 2.9, 4.3, 1.3],\n",
              "       [5.1, 2.5, 3. , 1.1],\n",
              "       [5.7, 2.8, 4.1, 1.3],\n",
              "       [6.3, 3.3, 6. , 2.5],\n",
              "       [5.8, 2.7, 5.1, 1.9],\n",
              "       [7.1, 3. , 5.9, 2.1],\n",
              "       [6.3, 2.9, 5.6, 1.8],\n",
              "       [6.5, 3. , 5.8, 2.2],\n",
              "       [7.6, 3. , 6.6, 2.1],\n",
              "       [4.9, 2.5, 4.5, 1.7],\n",
              "       [7.3, 2.9, 6.3, 1.8],\n",
              "       [6.7, 2.5, 5.8, 1.8],\n",
              "       [7.2, 3.6, 6.1, 2.5],\n",
              "       [6.5, 3.2, 5.1, 2. ],\n",
              "       [6.4, 2.7, 5.3, 1.9],\n",
              "       [6.8, 3. , 5.5, 2.1],\n",
              "       [5.7, 2.5, 5. , 2. ],\n",
              "       [5.8, 2.8, 5.1, 2.4],\n",
              "       [6.4, 3.2, 5.3, 2.3],\n",
              "       [6.5, 3. , 5.5, 1.8],\n",
              "       [7.7, 3.8, 6.7, 2.2],\n",
              "       [7.7, 2.6, 6.9, 2.3],\n",
              "       [6. , 2.2, 5. , 1.5],\n",
              "       [6.9, 3.2, 5.7, 2.3],\n",
              "       [5.6, 2.8, 4.9, 2. ],\n",
              "       [7.7, 2.8, 6.7, 2. ],\n",
              "       [6.3, 2.7, 4.9, 1.8],\n",
              "       [6.7, 3.3, 5.7, 2.1],\n",
              "       [7.2, 3.2, 6. , 1.8],\n",
              "       [6.2, 2.8, 4.8, 1.8],\n",
              "       [6.1, 3. , 4.9, 1.8],\n",
              "       [6.4, 2.8, 5.6, 2.1],\n",
              "       [7.2, 3. , 5.8, 1.6],\n",
              "       [7.4, 2.8, 6.1, 1.9],\n",
              "       [7.9, 3.8, 6.4, 2. ],\n",
              "       [6.4, 2.8, 5.6, 2.2],\n",
              "       [6.3, 2.8, 5.1, 1.5],\n",
              "       [6.1, 2.6, 5.6, 1.4],\n",
              "       [7.7, 3. , 6.1, 2.3],\n",
              "       [6.3, 3.4, 5.6, 2.4],\n",
              "       [6.4, 3.1, 5.5, 1.8],\n",
              "       [6. , 3. , 4.8, 1.8],\n",
              "       [6.9, 3.1, 5.4, 2.1],\n",
              "       [6.7, 3.1, 5.6, 2.4],\n",
              "       [6.9, 3.1, 5.1, 2.3],\n",
              "       [5.8, 2.7, 5.1, 1.9],\n",
              "       [6.8, 3.2, 5.9, 2.3],\n",
              "       [6.7, 3.3, 5.7, 2.5],\n",
              "       [6.7, 3. , 5.2, 2.3],\n",
              "       [6.3, 2.5, 5. , 1.9],\n",
              "       [6.5, 3. , 5.2, 2. ],\n",
              "       [6.2, 3.4, 5.4, 2.3],\n",
              "       [5.9, 3. , 5.1, 1.8]])"
            ]
          },
          "metadata": {
            "tags": []
          },
          "execution_count": 5
        }
      ]
    },
    {
      "cell_type": "code",
      "metadata": {
        "id": "M78QFBpPhkKn"
      },
      "source": [
        "from sklearn.cluster import KMeans, AgglomerativeClustering, AffinityPropagation, SpectralClustering,DBSCAN\r\n",
        "\r\n",
        "algoritmi=[]\r\n",
        "algoritmi.append(KMeans(n_clusters=10, random_state=1))\r\n",
        "algoritmi.append(AffinityPropagation())\r\n",
        "algoritmi.append(SpectralClustering(n_clusters=10, random_state=1, affinity='nearest_neighbors'))\r\n",
        "algoritmi.append(AgglomerativeClustering(n_clusters=10))\r\n",
        "algoritmi.append(DBSCAN())"
      ],
      "execution_count": null,
      "outputs": []
    },
    {
      "cell_type": "code",
      "metadata": {
        "colab": {
          "base_uri": "https://localhost:8080/"
        },
        "id": "y6Ubz-17jACz",
        "outputId": "4cc6ad75-0974-47a7-8b75-8ee6dff1826f"
      },
      "source": [
        "from sklearn import metrics\r\n",
        "data=[]\r\n",
        "for a in algoritmi:\r\n",
        "  a.fit(X)\r\n",
        "  data.append(({\r\n",
        "      'ARI': metrics.adjusted_rand_score(y, a.labels_),\r\n",
        "      'AMI': metrics.adjusted_mutual_info_score(y, a.labels_, average_method='arithmetic'),\r\n",
        "      'Homogenity' : metrics.homogeneity_score(y, a.labels_),\r\n",
        "      'Completeness' : metrics.completeness_score(y, a.labels_),\r\n",
        "      'V-measure' : metrics.v_measure_score(y, a.labels_),\r\n",
        "    \r\n",
        "  }))"
      ],
      "execution_count": null,
      "outputs": [
        {
          "output_type": "stream",
          "text": [
            "/usr/local/lib/python3.6/dist-packages/sklearn/manifold/_spectral_embedding.py:236: UserWarning: Graph is not fully connected, spectral embedding may not work as expected.\n",
            "  warnings.warn(\"Graph is not fully connected, spectral embedding\"\n"
          ],
          "name": "stderr"
        }
      ]
    },
    {
      "cell_type": "code",
      "metadata": {
        "colab": {
          "base_uri": "https://localhost:8080/",
          "height": 195
        },
        "id": "vGwb-fh6j9kv",
        "outputId": "6fb46164-4fe8-4001-f433-727cbcb3ec94"
      },
      "source": [
        "import pandas as pd\r\n",
        "\r\n",
        "rez=pd.DataFrame(data=data, columns=['ARI', 'AMI', 'Homogenity', 'Completeness', 'V-measure'], index=['KMeans', 'Affinity', 'Spectral', 'Agglomerative', 'DBSCAN'])\r\n",
        "\r\n",
        "rez"
      ],
      "execution_count": null,
      "outputs": [
        {
          "output_type": "execute_result",
          "data": {
            "text/html": [
              "<div>\n",
              "<style scoped>\n",
              "    .dataframe tbody tr th:only-of-type {\n",
              "        vertical-align: middle;\n",
              "    }\n",
              "\n",
              "    .dataframe tbody tr th {\n",
              "        vertical-align: top;\n",
              "    }\n",
              "\n",
              "    .dataframe thead th {\n",
              "        text-align: right;\n",
              "    }\n",
              "</style>\n",
              "<table border=\"1\" class=\"dataframe\">\n",
              "  <thead>\n",
              "    <tr style=\"text-align: right;\">\n",
              "      <th></th>\n",
              "      <th>ARI</th>\n",
              "      <th>AMI</th>\n",
              "      <th>Homogenity</th>\n",
              "      <th>Completeness</th>\n",
              "      <th>V-measure</th>\n",
              "    </tr>\n",
              "  </thead>\n",
              "  <tbody>\n",
              "    <tr>\n",
              "      <th>KMeans</th>\n",
              "      <td>0.344898</td>\n",
              "      <td>0.590879</td>\n",
              "      <td>0.927834</td>\n",
              "      <td>0.450515</td>\n",
              "      <td>0.606527</td>\n",
              "    </tr>\n",
              "    <tr>\n",
              "      <th>Affinity</th>\n",
              "      <td>0.481172</td>\n",
              "      <td>0.659933</td>\n",
              "      <td>0.914941</td>\n",
              "      <td>0.527822</td>\n",
              "      <td>0.669446</td>\n",
              "    </tr>\n",
              "    <tr>\n",
              "      <th>Spectral</th>\n",
              "      <td>0.322857</td>\n",
              "      <td>0.573970</td>\n",
              "      <td>0.906382</td>\n",
              "      <td>0.437467</td>\n",
              "      <td>0.590114</td>\n",
              "    </tr>\n",
              "    <tr>\n",
              "      <th>Agglomerative</th>\n",
              "      <td>0.342231</td>\n",
              "      <td>0.547030</td>\n",
              "      <td>0.851754</td>\n",
              "      <td>0.422575</td>\n",
              "      <td>0.564893</td>\n",
              "    </tr>\n",
              "    <tr>\n",
              "      <th>DBSCAN</th>\n",
              "      <td>0.520619</td>\n",
              "      <td>0.598995</td>\n",
              "      <td>0.559946</td>\n",
              "      <td>0.656558</td>\n",
              "      <td>0.604416</td>\n",
              "    </tr>\n",
              "  </tbody>\n",
              "</table>\n",
              "</div>"
            ],
            "text/plain": [
              "                    ARI       AMI  Homogenity  Completeness  V-measure\n",
              "KMeans         0.344898  0.590879    0.927834      0.450515   0.606527\n",
              "Affinity       0.481172  0.659933    0.914941      0.527822   0.669446\n",
              "Spectral       0.322857  0.573970    0.906382      0.437467   0.590114\n",
              "Agglomerative  0.342231  0.547030    0.851754      0.422575   0.564893\n",
              "DBSCAN         0.520619  0.598995    0.559946      0.656558   0.604416"
            ]
          },
          "metadata": {
            "tags": []
          },
          "execution_count": 14
        }
      ]
    },
    {
      "cell_type": "code",
      "metadata": {
        "colab": {
          "base_uri": "https://localhost:8080/"
        },
        "id": "BCCemIWOkh8K",
        "outputId": "d0b46cca-d927-4d0c-fa99-a1cac913d89f"
      },
      "source": [
        "best = KMeans(n_clusters=10, random_state=1)\r\n",
        "best.fit(X, y)"
      ],
      "execution_count": null,
      "outputs": [
        {
          "output_type": "execute_result",
          "data": {
            "text/plain": [
              "KMeans(algorithm='auto', copy_x=True, init='k-means++', max_iter=300,\n",
              "       n_clusters=10, n_init=10, n_jobs=None, precompute_distances='auto',\n",
              "       random_state=1, tol=0.0001, verbose=0)"
            ]
          },
          "metadata": {
            "tags": []
          },
          "execution_count": 15
        }
      ]
    },
    {
      "cell_type": "code",
      "metadata": {
        "id": "CIV6JCyjkxpK"
      },
      "source": [
        "from sklearn.decomposition import PCA\r\n",
        "import numpy as np\r\n",
        "pca = PCA(2)\r\n",
        "df_new = pca.fit_transform(X)"
      ],
      "execution_count": null,
      "outputs": []
    },
    {
      "cell_type": "code",
      "metadata": {
        "id": "FRAqrkATkz8b"
      },
      "source": [
        "label = best.fit_predict(df_new)\r\n",
        "u_labels = np.unique(label)\r\n",
        "labels = best.labels_"
      ],
      "execution_count": null,
      "outputs": []
    },
    {
      "cell_type": "code",
      "metadata": {
        "colab": {
          "base_uri": "https://localhost:8080/",
          "height": 269
        },
        "id": "UDfZ-8dok320",
        "outputId": "3e7da6f7-c02d-4fa9-b118-bb5b5050527f"
      },
      "source": [
        "import matplotlib.pyplot as plt\r\n",
        "import seaborn as sns\r\n",
        "%matplotlib inline\r\n",
        "for i in u_labels:\r\n",
        "    plt.scatter(df_new[label == i , 0] , df_new[label == i , 1] , label = i)\r\n",
        "plt.legend()\r\n",
        "plt.show()"
      ],
      "execution_count": null,
      "outputs": [
        {
          "output_type": "display_data",
          "data": {
            "image/png": "[encoded data removed]",
            "text/plain": [
              "<Figure size 432x288 with 1 Axes>"
            ]
          },
          "metadata": {
            "tags": [],
            "needs_background": "light"
          }
        }
      ]
    },
    {
      "cell_type": "code",
      "metadata": {
        "id": "RgC-hNjIk6Dy"
      },
      "source": [
        "from keras.layers import Dense,Embedding, Flatten\r\n",
        "from keras.models import Sequential\r\n",
        "embedding_size = 3\r\n",
        "\r\n",
        "model = Sequential()\r\n",
        "model.add(Embedding(input_dim = 12, output_dim = 3, input_length = 4, name=\"embedding\"))\r\n",
        "model.add(Flatten())\r\n",
        "model.add(Dense(50, activation=\"relu\"))\r\n",
        "model.add(Dense(15, activation=\"relu\"))\r\n",
        "model.add(Dense(1))"
      ],
      "execution_count": null,
      "outputs": []
    },
    {
      "cell_type": "code",
      "metadata": {
        "id": "VSrKvHpfk-2v"
      },
      "source": [
        " model.compile(loss = \"mse\", optimizer = \"adam\", metrics=[\"accuracy\"])"
      ],
      "execution_count": null,
      "outputs": []
    },
    {
      "cell_type": "code",
      "metadata": {
        "colab": {
          "base_uri": "https://localhost:8080/"
        },
        "id": "wTkI0W3SlBAZ",
        "outputId": "0cf42db5-8f86-46a4-b286-40c123ea553b"
      },
      "source": [
        "model.fit(X, y, epochs = 50, batch_size = 4)"
      ],
      "execution_count": null,
      "outputs": [
        {
          "output_type": "stream",
          "text": [
            "Epoch 1/50\n",
            "38/38 [==============================] - 1s 1ms/step - loss: 1.3330 - accuracy: 0.3892\n",
            "Epoch 2/50\n",
            "38/38 [==============================] - 0s 1ms/step - loss: 0.7206 - accuracy: 0.4046\n",
            "Epoch 3/50\n",
            "38/38 [==============================] - 0s 1ms/step - loss: 0.2289 - accuracy: 0.4960\n",
            "Epoch 4/50\n",
            "38/38 [==============================] - 0s 1ms/step - loss: 0.0831 - accuracy: 0.6508\n",
            "Epoch 5/50\n",
            "38/38 [==============================] - 0s 1ms/step - loss: 0.0514 - accuracy: 0.6011\n",
            "Epoch 6/50\n",
            "38/38 [==============================] - 0s 1ms/step - loss: 0.0422 - accuracy: 0.6375\n",
            "Epoch 7/50\n",
            "38/38 [==============================] - 0s 1ms/step - loss: 0.0498 - accuracy: 0.6257\n",
            "Epoch 8/50\n",
            "38/38 [==============================] - 0s 2ms/step - loss: 0.0261 - accuracy: 0.6496\n",
            "Epoch 9/50\n",
            "38/38 [==============================] - 0s 1ms/step - loss: 0.0417 - accuracy: 0.7371\n",
            "Epoch 10/50\n",
            "38/38 [==============================] - 0s 1ms/step - loss: 0.0476 - accuracy: 0.6281\n",
            "Epoch 11/50\n",
            "38/38 [==============================] - 0s 1ms/step - loss: 0.0413 - accuracy: 0.6765\n",
            "Epoch 12/50\n",
            "38/38 [==============================] - 0s 1ms/step - loss: 0.0606 - accuracy: 0.6335\n",
            "Epoch 13/50\n",
            "38/38 [==============================] - 0s 1ms/step - loss: 0.0548 - accuracy: 0.6531\n",
            "Epoch 14/50\n",
            "38/38 [==============================] - 0s 1ms/step - loss: 0.0385 - accuracy: 0.7207\n",
            "Epoch 15/50\n",
            "38/38 [==============================] - 0s 1ms/step - loss: 0.0411 - accuracy: 0.7161\n",
            "Epoch 16/50\n",
            "38/38 [==============================] - 0s 1ms/step - loss: 0.0648 - accuracy: 0.6253\n",
            "Epoch 17/50\n",
            "38/38 [==============================] - 0s 1ms/step - loss: 0.0528 - accuracy: 0.5889\n",
            "Epoch 18/50\n",
            "38/38 [==============================] - 0s 2ms/step - loss: 0.0465 - accuracy: 0.6340\n",
            "Epoch 19/50\n",
            "38/38 [==============================] - 0s 2ms/step - loss: 0.0483 - accuracy: 0.6663\n",
            "Epoch 20/50\n",
            "38/38 [==============================] - 0s 1ms/step - loss: 0.0437 - accuracy: 0.6911\n",
            "Epoch 21/50\n",
            "38/38 [==============================] - 0s 1ms/step - loss: 0.0284 - accuracy: 0.6290\n",
            "Epoch 22/50\n",
            "38/38 [==============================] - 0s 1ms/step - loss: 0.0440 - accuracy: 0.6522\n",
            "Epoch 23/50\n",
            "38/38 [==============================] - 0s 1ms/step - loss: 0.0480 - accuracy: 0.6724\n",
            "Epoch 24/50\n",
            "38/38 [==============================] - 0s 1ms/step - loss: 0.0206 - accuracy: 0.6816\n",
            "Epoch 25/50\n",
            "38/38 [==============================] - 0s 1ms/step - loss: 0.0399 - accuracy: 0.6903\n",
            "Epoch 26/50\n",
            "38/38 [==============================] - 0s 1ms/step - loss: 0.0209 - accuracy: 0.6932\n",
            "Epoch 27/50\n",
            "38/38 [==============================] - 0s 2ms/step - loss: 0.0319 - accuracy: 0.6088\n",
            "Epoch 28/50\n",
            "38/38 [==============================] - 0s 1ms/step - loss: 0.0340 - accuracy: 0.6781\n",
            "Epoch 29/50\n",
            "38/38 [==============================] - 0s 1ms/step - loss: 0.0436 - accuracy: 0.6339\n",
            "Epoch 30/50\n",
            "38/38 [==============================] - 0s 1ms/step - loss: 0.0284 - accuracy: 0.7085\n",
            "Epoch 31/50\n",
            "38/38 [==============================] - 0s 1ms/step - loss: 0.0673 - accuracy: 0.6249\n",
            "Epoch 32/50\n",
            "38/38 [==============================] - 0s 1ms/step - loss: 0.0668 - accuracy: 0.6062\n",
            "Epoch 33/50\n",
            "38/38 [==============================] - 0s 1ms/step - loss: 0.0329 - accuracy: 0.7221\n",
            "Epoch 34/50\n",
            "38/38 [==============================] - 0s 1ms/step - loss: 0.0698 - accuracy: 0.7320\n",
            "Epoch 35/50\n",
            "38/38 [==============================] - 0s 1ms/step - loss: 0.0563 - accuracy: 0.6365\n",
            "Epoch 36/50\n",
            "38/38 [==============================] - 0s 2ms/step - loss: 0.0461 - accuracy: 0.6723\n",
            "Epoch 37/50\n",
            "38/38 [==============================] - 0s 1ms/step - loss: 0.0360 - accuracy: 0.6130\n",
            "Epoch 38/50\n",
            "38/38 [==============================] - 0s 1ms/step - loss: 0.0695 - accuracy: 0.6145\n",
            "Epoch 39/50\n",
            "38/38 [==============================] - 0s 1ms/step - loss: 0.0467 - accuracy: 0.5997\n",
            "Epoch 40/50\n",
            "38/38 [==============================] - 0s 2ms/step - loss: 0.0360 - accuracy: 0.6391\n",
            "Epoch 41/50\n",
            "38/38 [==============================] - 0s 1ms/step - loss: 0.0362 - accuracy: 0.6848\n",
            "Epoch 42/50\n",
            "38/38 [==============================] - 0s 1ms/step - loss: 0.0287 - accuracy: 0.6802\n",
            "Epoch 43/50\n",
            "38/38 [==============================] - 0s 1ms/step - loss: 0.0455 - accuracy: 0.6682\n",
            "Epoch 44/50\n",
            "38/38 [==============================] - 0s 1ms/step - loss: 0.0186 - accuracy: 0.6818\n",
            "Epoch 45/50\n",
            "38/38 [==============================] - 0s 1ms/step - loss: 0.0268 - accuracy: 0.6720\n",
            "Epoch 46/50\n",
            "38/38 [==============================] - 0s 1ms/step - loss: 0.0476 - accuracy: 0.6068\n",
            "Epoch 47/50\n",
            "38/38 [==============================] - 0s 1ms/step - loss: 0.0347 - accuracy: 0.7008\n",
            "Epoch 48/50\n",
            "38/38 [==============================] - 0s 1ms/step - loss: 0.0294 - accuracy: 0.5783\n",
            "Epoch 49/50\n",
            "38/38 [==============================] - 0s 1ms/step - loss: 0.0412 - accuracy: 0.6874\n",
            "Epoch 50/50\n",
            "38/38 [==============================] - 0s 1ms/step - loss: 0.0317 - accuracy: 0.7104\n"
          ],
          "name": "stdout"
        },
        {
          "output_type": "execute_result",
          "data": {
            "text/plain": [
              "<tensorflow.python.keras.callbacks.History at 0x7feb3cad9390>"
            ]
          },
          "metadata": {
            "tags": []
          },
          "execution_count": 21
        }
      ]
    },
    {
      "cell_type": "code",
      "metadata": {
        "colab": {
          "base_uri": "https://localhost:8080/"
        },
        "id": "PVUIa9SSlFJ2",
        "outputId": "296bf080-07c6-4153-ce6b-8ee57a5d3f2f"
      },
      "source": [
        "layer = model.get_layer('embedding')\r\n",
        "output_embeddings = layer.get_weights()\r\n",
        "output_embeddings"
      ],
      "execution_count": null,
      "outputs": [
        {
          "output_type": "execute_result",
          "data": {
            "text/plain": [
              "[array([[-0.15684524,  0.11906167,  0.10776318],\n",
              "        [ 0.07573339, -0.04759523, -0.12852775],\n",
              "        [ 0.14831947, -0.1353058 ,  0.05043671],\n",
              "        [ 0.08498152, -0.07032131, -0.0170531 ],\n",
              "        [ 0.02757216, -0.03515034,  0.01756066],\n",
              "        [-0.14617532, -0.10151696,  0.10005711],\n",
              "        [-0.11285549, -0.1024406 ,  0.11596428],\n",
              "        [-0.00753895, -0.12247724,  0.07287186],\n",
              "        [-0.04162776, -0.01989436, -0.01915309],\n",
              "        [ 0.00721707, -0.04139713, -0.0098184 ],\n",
              "        [-0.03920228,  0.00248422, -0.022224  ],\n",
              "        [-0.04440377,  0.04028784,  0.00838782]], dtype=float32)]"
            ]
          },
          "metadata": {
            "tags": []
          },
          "execution_count": 22
        }
      ]
    },
    {
      "cell_type": "code",
      "metadata": {
        "colab": {
          "base_uri": "https://localhost:8080/",
          "height": 402
        },
        "id": "zEcfB_ahlGMF",
        "outputId": "fdda020c-37d0-4dd3-a920-ea7f0551c4da"
      },
      "source": [
        " output_embeddings_df = pd.DataFrame(output_embeddings[0])\r\n",
        "output_embeddings_df = output_embeddings_df.reset_index()\r\n",
        "output_embeddings_df.columns = ['mnth', 'embedding_1', 'embedding_2', 'embedding_3']\r\n",
        "output_embeddings_df"
      ],
      "execution_count": null,
      "outputs": [
        {
          "output_type": "execute_result",
          "data": {
            "text/html": [
              "<div>\n",
              "<style scoped>\n",
              "    .dataframe tbody tr th:only-of-type {\n",
              "        vertical-align: middle;\n",
              "    }\n",
              "\n",
              "    .dataframe tbody tr th {\n",
              "        vertical-align: top;\n",
              "    }\n",
              "\n",
              "    .dataframe thead th {\n",
              "        text-align: right;\n",
              "    }\n",
              "</style>\n",
              "<table border=\"1\" class=\"dataframe\">\n",
              "  <thead>\n",
              "    <tr style=\"text-align: right;\">\n",
              "      <th></th>\n",
              "      <th>mnth</th>\n",
              "      <th>embedding_1</th>\n",
              "      <th>embedding_2</th>\n",
              "      <th>embedding_3</th>\n",
              "    </tr>\n",
              "  </thead>\n",
              "  <tbody>\n",
              "    <tr>\n",
              "      <th>0</th>\n",
              "      <td>0</td>\n",
              "      <td>-0.156845</td>\n",
              "      <td>0.119062</td>\n",
              "      <td>0.107763</td>\n",
              "    </tr>\n",
              "    <tr>\n",
              "      <th>1</th>\n",
              "      <td>1</td>\n",
              "      <td>0.075733</td>\n",
              "      <td>-0.047595</td>\n",
              "      <td>-0.128528</td>\n",
              "    </tr>\n",
              "    <tr>\n",
              "      <th>2</th>\n",
              "      <td>2</td>\n",
              "      <td>0.148319</td>\n",
              "      <td>-0.135306</td>\n",
              "      <td>0.050437</td>\n",
              "    </tr>\n",
              "    <tr>\n",
              "      <th>3</th>\n",
              "      <td>3</td>\n",
              "      <td>0.084982</td>\n",
              "      <td>-0.070321</td>\n",
              "      <td>-0.017053</td>\n",
              "    </tr>\n",
              "    <tr>\n",
              "      <th>4</th>\n",
              "      <td>4</td>\n",
              "      <td>0.027572</td>\n",
              "      <td>-0.035150</td>\n",
              "      <td>0.017561</td>\n",
              "    </tr>\n",
              "    <tr>\n",
              "      <th>5</th>\n",
              "      <td>5</td>\n",
              "      <td>-0.146175</td>\n",
              "      <td>-0.101517</td>\n",
              "      <td>0.100057</td>\n",
              "    </tr>\n",
              "    <tr>\n",
              "      <th>6</th>\n",
              "      <td>6</td>\n",
              "      <td>-0.112855</td>\n",
              "      <td>-0.102441</td>\n",
              "      <td>0.115964</td>\n",
              "    </tr>\n",
              "    <tr>\n",
              "      <th>7</th>\n",
              "      <td>7</td>\n",
              "      <td>-0.007539</td>\n",
              "      <td>-0.122477</td>\n",
              "      <td>0.072872</td>\n",
              "    </tr>\n",
              "    <tr>\n",
              "      <th>8</th>\n",
              "      <td>8</td>\n",
              "      <td>-0.041628</td>\n",
              "      <td>-0.019894</td>\n",
              "      <td>-0.019153</td>\n",
              "    </tr>\n",
              "    <tr>\n",
              "      <th>9</th>\n",
              "      <td>9</td>\n",
              "      <td>0.007217</td>\n",
              "      <td>-0.041397</td>\n",
              "      <td>-0.009818</td>\n",
              "    </tr>\n",
              "    <tr>\n",
              "      <th>10</th>\n",
              "      <td>10</td>\n",
              "      <td>-0.039202</td>\n",
              "      <td>0.002484</td>\n",
              "      <td>-0.022224</td>\n",
              "    </tr>\n",
              "    <tr>\n",
              "      <th>11</th>\n",
              "      <td>11</td>\n",
              "      <td>-0.044404</td>\n",
              "      <td>0.040288</td>\n",
              "      <td>0.008388</td>\n",
              "    </tr>\n",
              "  </tbody>\n",
              "</table>\n",
              "</div>"
            ],
            "text/plain": [
              "    mnth  embedding_1  embedding_2  embedding_3\n",
              "0      0    -0.156845     0.119062     0.107763\n",
              "1      1     0.075733    -0.047595    -0.128528\n",
              "2      2     0.148319    -0.135306     0.050437\n",
              "3      3     0.084982    -0.070321    -0.017053\n",
              "4      4     0.027572    -0.035150     0.017561\n",
              "5      5    -0.146175    -0.101517     0.100057\n",
              "6      6    -0.112855    -0.102441     0.115964\n",
              "7      7    -0.007539    -0.122477     0.072872\n",
              "8      8    -0.041628    -0.019894    -0.019153\n",
              "9      9     0.007217    -0.041397    -0.009818\n",
              "10    10    -0.039202     0.002484    -0.022224\n",
              "11    11    -0.044404     0.040288     0.008388"
            ]
          },
          "metadata": {
            "tags": []
          },
          "execution_count": 23
        }
      ]
    },
    {
      "cell_type": "code",
      "metadata": {
        "id": "gfe7v_RQlLp5",
        "colab": {
          "base_uri": "https://localhost:8080/",
          "height": 575
        },
        "outputId": "b3e47e24-2dfd-41dc-f75f-db1c40ec5f94"
      },
      "source": [
        "import matplotlib.pyplot as plt\r\n",
        "%matplotlib inline\r\n",
        "\r\n",
        "m = output_embeddings_df.iloc[:,1:].to_numpy()\r\n",
        "labels = output_embeddings_df.iloc[:,0:1].to_numpy()\r\n",
        "fig = plt.figure(figsize=(20,10))\r\n",
        "ax = fig.add_subplot(111, projection='3d')\r\n",
        "\r\n",
        "for i in range(len(labels)):\r\n",
        "    ax.scatter(m[i,0],m[i,1],m[i,2], color='b')\r\n",
        "    ax.text(m[i,0],m[i,1],m[i,2],'%s'%(str(labels[i][0])), size=20, zorder=1, color='k')\r\n",
        "\r\n",
        "ax.set_xlabel('Embedding 1')  \r\n",
        "ax.set_ylabel('Embedding 2')  \r\n",
        "ax.set_zlabel('Embedding 3')  \r\n",
        "plt.show()"
      ],
      "execution_count": null,
      "outputs": [
        {
          "output_type": "display_data",
          "data": {
            "image/png": "[encoded data removed]",
            "text/plain": [
              "<Figure size 1440x720 with 1 Axes>"
            ]
          },
          "metadata": {
            "tags": [],
            "needs_background": "light"
          }
        }
      ]
    }
  ]
}